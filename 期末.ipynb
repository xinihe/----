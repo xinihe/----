{
 "cells": [
  {
   "cell_type": "markdown",
   "id": "bb82e23c-fe81-4fe6-97fc-e641ca55b87c",
   "metadata": {},
   "source": [
    "**Q1.**\n",
    "\n",
    "    1. 生成一个元素取值在[0, 100]中随机分布的10x4的二维数组A，生成一个元素取值符合正态分布的一维数组B，数组长度为40\n",
    "    2. 将B重塑为4x10的二维数组，计算矩阵C = AxB，C的逆矩阵以及C的行列式。\n",
    "    3. (a)以列表的形式返回矩阵C每一行中大于该行均值的数字 (b)以二维数组的形式返回上述数字所处的位置。\n",
    "    4. 从二维数组C生成一个DataFrame，将列名按大写字母表顺序命名\n",
    "    5. 将该DataFrame保存到本地C盘根目录下，文件名为rand_num.csv\n",
    "    \n",
    "**解答：**"
   ]
  },
  {
   "cell_type": "code",
   "execution_count": null,
   "id": "52dadc8e-3e58-4ea2-bc34-d7593db093fc",
   "metadata": {},
   "outputs": [],
   "source": []
  },
  {
   "cell_type": "markdown",
   "id": "ed5825ab-8777-40d3-bc0e-df95110a9648",
   "metadata": {},
   "source": [
    "**Q2.**\n",
    "\n",
    "url1 = http://stock.finance.sina.com.cn/stock/go.php/vReport_List/kind/lastest/index.phtml?p=1  \n",
    "\n",
    "    1. 从url1中爬取1-10页的标题、报告类型、发布日期、机构四项信息，并将它们存入DataFrame中\n",
    "\n",
    "|title|type|date|institution|\n",
    "| -- | -- | -- | -- |\n",
    "| 标题1 | …… | …… | …… |\n",
    "| 标题2 | …… | …… | …… |\n",
    "……\n",
    "\n",
    "    2. (a)对Q2.1中表格的 标题 这一列进行情感评分，并存入原始表格的sentiment列 (b)将情感评分的值按照 报告类型 求平均\n",
    "\n",
    "url2 = http://stock.finance.sina.com.cn/stock/go.php/vReport_Show/kind/macro/rptid/722557801271/index.phtml\n",
    "\n",
    "    3. 绘制url2页面中研报的词云图，注意过滤停用词。\n",
    "\n",
    "**解答：**"
   ]
  },
  {
   "cell_type": "code",
   "execution_count": null,
   "id": "a408cb59-b6ad-449b-a4d6-271ecded7344",
   "metadata": {},
   "outputs": [],
   "source": []
  },
  {
   "cell_type": "markdown",
   "id": "35a46d4c-fb3f-4ee9-8835-b212c8708df6",
   "metadata": {},
   "source": [
    "**Q3.**\n",
    "\n",
    "    1. 从上市日期在2015年之前的银行股中选出股票代码最大的10支，从tushareAPI获取它们2015年至2021年的日线行情数据\n",
    "    2. 将这10支银行股的收盘价按照trade_date连接，取数据并集的方式合并成一个DataFrame，列名为股票名称，行索引为trade_date，并将合并后表中的nan值填充为前一天的收盘价\n",
    "    \n",
    "||银行股1|银行股2|银行股3|……\n",
    "|--| -- | -- | -- | -- \n",
    "|交易日1| 收盘价 | 收盘价 | 收盘价 |……\n",
    "|交易日2| 收盘价 | 收盘价 | 收盘价 |……\n",
    "|交易日3| 收盘价 | 收盘价 | 收盘价 |……\n",
    "……\n",
    "    \n",
    "    3. 计算Q3.2中10支股票收益率序列的相关矩阵，并绘制热图\n",
    "    4. 绘制总标题为中文“银行股”，1x2的子图，图片大小为20x10。\n",
    "    子图一：将Q3.2中10支股票以日期为横坐标，收盘价为纵坐标绘制折线图。价格序列的起始点均平移至原点，图中需显示图例、网格、横纵坐标（注意调节参数以使得图像美观）\n",
    "    子图二：计算10支股票收盘价序列的均值序列stock_avg，计算stock_avg的5日和20日指数移动平均线ema5以及ema20。在图中绘制stock_avg、ema5、ema20，并填充ema5和ema20之间的部分，填充的颜色为红色，透明度为0.1（请在图中以适当的间距显示日期）。\n",
    "\n",
    "**解答：**"
   ]
  },
  {
   "cell_type": "code",
   "execution_count": null,
   "id": "73ae8506-9853-481b-ac74-cae142a44d67",
   "metadata": {},
   "outputs": [],
   "source": []
  },
  {
   "cell_type": "markdown",
   "id": "433f38b4-aad7-4039-8ea4-9f7709f41d25",
   "metadata": {},
   "source": [
    "**Q4.**\n",
    " \n",
    "    1. 对于Q3.3中10支股票的收盘价表格，请计算各支股票的夏普比率、最大回撤与平均收益率\n",
    "    2. 这些股票的夏普比率、最大回撤与平均收益率间存在什么关系？假如你是基金经理，你会采取什么策略、选择哪几支股票进行投资？使用文字结合图表说明。\n",
    "\n",
    "**解答：**"
   ]
  },
  {
   "cell_type": "code",
   "execution_count": null,
   "id": "f9999326-0907-47b4-aa13-394cb67efebc",
   "metadata": {},
   "outputs": [],
   "source": []
  },
  {
   "cell_type": "markdown",
   "id": "66fd72ea-6cb9-480c-9f52-1db1a99b9622",
   "metadata": {},
   "source": [
    "**Q++**\n",
    "\n",
    "    在Q3中，点击url1页面中的标题，可以看到每篇研报的具体文字内容。请利用tf-idf和textrank算法提取url1页面中所有研报内容权重最大的关键词，并以DataFrame格式输出\n",
    "    \n",
    "|title|tf-idf|textrank|\n",
    "| -- | -- | -- |\n",
    "| 标题1 | 关键字 | 关键字 |\n",
    "| 标题2 | 关键字 | 关键字 |\n",
    "……\n"
   ]
  },
  {
   "cell_type": "code",
   "execution_count": null,
   "id": "66e1e4e1-3147-4668-9536-bf3b2a394b79",
   "metadata": {},
   "outputs": [],
   "source": []
  }
 ],
 "metadata": {
  "kernelspec": {
   "display_name": "Python 3 (ipykernel)",
   "language": "python",
   "name": "python3"
  },
  "language_info": {
   "codemirror_mode": {
    "name": "ipython",
    "version": 3
   },
   "file_extension": ".py",
   "mimetype": "text/x-python",
   "name": "python",
   "nbconvert_exporter": "python",
   "pygments_lexer": "ipython3",
   "version": "3.7.13"
  }
 },
 "nbformat": 4,
 "nbformat_minor": 5
}
