{
 "cells": [
  {
   "cell_type": "code",
   "execution_count": 13,
   "metadata": {},
   "outputs": [
    {
     "name": "stdout",
     "output_type": "stream",
     "text": [
      "Defaulting to user installation because normal site-packages is not writeable\n",
      "Looking in indexes: https://mirrors.aliyun.com/pypi/simple\n",
      "Collecting xlwt\n",
      "  Downloading https://mirrors.aliyun.com/pypi/packages/44/48/def306413b25c3d01753603b1a222a011b8621aed27cd7f89cbc27e6b0f4/xlwt-1.3.0-py2.py3-none-any.whl (99 kB)\n",
      "\u001b[2K     \u001b[90m━━━━━━━━━━━━━━━━━━━━━━━━━━━━━━━━━━━━━\u001b[0m \u001b[32m100.0/100.0 kB\u001b[0m \u001b[31m335.0 kB/s\u001b[0m eta \u001b[36m0:00:00\u001b[0ma \u001b[36m0:00:01\u001b[0m\n",
      "\u001b[?25hInstalling collected packages: xlwt\n",
      "Successfully installed xlwt-1.3.0\n",
      "\n",
      "\u001b[1m[\u001b[0m\u001b[34;49mnotice\u001b[0m\u001b[1;39;49m]\u001b[0m\u001b[39;49m A new release of pip available: \u001b[0m\u001b[31;49m22.2.2\u001b[0m\u001b[39;49m -> \u001b[0m\u001b[32;49m22.3.1\u001b[0m\n",
      "\u001b[1m[\u001b[0m\u001b[34;49mnotice\u001b[0m\u001b[1;39;49m]\u001b[0m\u001b[39;49m To update, run: \u001b[0m\u001b[32;49m/Library/Developer/CommandLineTools/usr/bin/python3 -m pip install --upgrade pip\u001b[0m\n",
      "Note: you may need to restart the kernel to use updated packages.\n"
     ]
    }
   ],
   "source": [
    "pip install -i https://mirrors.aliyun.com/pypi/simple xlwt"
   ]
  },
  {
   "cell_type": "code",
   "execution_count": 11,
   "metadata": {},
   "outputs": [
    {
     "name": "stdout",
     "output_type": "stream",
     "text": [
      "<pdfplumber.pdf.PDF object at 0x1070f31c0>\n",
      "<class 'pdfplumber.pdf.PDF'>\n",
      "pdf文档信息: {'Author': 'WPS_1662689548', 'Creator': 'Microsoft® Word 2010', 'CreationDate': \"D:20221223144241+08'00'\", 'ModDate': \"D:20221223144241+08'00'\", 'Producer': 'Microsoft® Word 2010'}\n",
      "pdf文档总页数: 32\n",
      "pdf页码: 1\n",
      "pdf页宽: 595.32\n",
      "pdf页高: 841.92\n",
      "浙江工商大学高层次期刊目录（2022 版  国际期刊） \n",
      " \n",
      "顶级期刊目录 \n",
      "序号  学科  期刊名称 \n",
      "1  SCIENCE \n",
      "2  NATURE \n",
      "综合 \n",
      "3  CELL \n",
      "4  LANCET \n",
      "A+++期刊目录（综合类） \n",
      "序号  学科  期刊名称 \n",
      "1  《SCIENCE》子刊 \n",
      "2  《NATURE》子刊 \n",
      "3  《CELL》子刊 \n",
      "综合 \n",
      "4  《LANCET》子刊 \n",
      "PROCEEDINGS OF THE NATIONAL ACADEMY OF \n",
      "5  SCIENCES OF THE UNITED STATES OF \n",
      "AMERICA(PNAS) \n",
      "与《SCIENCE》、《NATURE》、《CELL》、《LANCET》子刊以及《PNAS》\n",
      "等影响力相当的其他期刊，视为 A+++期刊 \n",
      " \n",
      " \n",
      "A+++期刊目录（社科类） \n",
      "序号  学科  期刊名称 \n",
      "1  法学  CALIFORNIA LAW REVIEW \n",
      "2  法学  COLUMBIA LAW REVIEW \n",
      "3  法学  CORNELL LAW REVIEW \n",
      "4  法学  GEORGETOWN LAW JOURNAL \n",
      "5  法学  HARVARD LAW REVIEW \n",
      "6  法学  MICHIGAN LAW REVIEW \n",
      "7  法学  STANFORD LAW REVIEW \n",
      "8  法学  TEXAS LAW REVIEW \n",
      "  1 \n"
     ]
    }
   ],
   "source": [
    "import pdfplumber\n",
    "\n",
    "# 加载pdf\n",
    "path = \"/Users/nihe/Library/CloudStorage/OneDrive-zjgsu.edu.cn/research/policy/高层次期刊目录.pdf\" \n",
    "with pdfplumber.open(path) as pdf:\n",
    "    print(pdf)\n",
    "    print(type(pdf))\n",
    "    \n",
    "    # 读取pdf文档信息\n",
    "    print(\"pdf文档信息:\", pdf.metadata)\n",
    "    \n",
    "    # 输出总页数\n",
    "    print(\"pdf文档总页数:\", len(pdf.pages))\n",
    "    \n",
    "    # 1.读取第一页宽度、高度等信息\n",
    "    first_page = pdf.pages[0]  # pdfplumber.Page对象第一页\n",
    "    # 查看页码\n",
    "    print('pdf页码:', first_page.page_number)\n",
    "    # 查看页宽\n",
    "    print('pdf页宽:', first_page.width)\n",
    "    # 查看页高\n",
    "    print('pdf页高:', first_page.height)\n",
    "    # 2.读取文本第一页\n",
    "    \n",
    "    first_page = pdf.pages[0]  # pdfplumber.Page对象第一页\n",
    "    text = first_page.extract_text()\n",
    "    print(text)\n",
    "    "
   ]
  },
  {
   "cell_type": "code",
   "execution_count": 14,
   "metadata": {},
   "outputs": [
    {
     "data": {
      "text/plain": [
       "'浙江工商大学高层次期刊目录（2022 版  国际期刊） \\n \\n顶级期刊目录 \\n序号  学科  期刊名称 \\n1  SCIENCE \\n2  NATURE \\n综合 \\n3  CELL \\n4  LANCET \\nA+++期刊目录（综合类） \\n序号  学科  期刊名称 \\n1  《SCIENCE》子刊 \\n2  《NATURE》子刊 \\n3  《CELL》子刊 \\n综合 \\n4  《LANCET》子刊 \\nPROCEEDINGS OF THE NATIONAL ACADEMY OF \\n5  SCIENCES OF THE UNITED STATES OF \\nAMERICA(PNAS) \\n与《SCIENCE》、《NATURE》、《CELL》、《LANCET》子刊以及《PNAS》\\n等影响力相当的其他期刊，视为 A+++期刊 \\n \\n \\nA+++期刊目录（社科类） \\n序号  学科  期刊名称 \\n1  法学  CALIFORNIA LAW REVIEW \\n2  法学  COLUMBIA LAW REVIEW \\n3  法学  CORNELL LAW REVIEW \\n4  法学  GEORGETOWN LAW JOURNAL \\n5  法学  HARVARD LAW REVIEW \\n6  法学  MICHIGAN LAW REVIEW \\n7  法学  STANFORD LAW REVIEW \\n8  法学  TEXAS LAW REVIEW \\n  1 '"
      ]
     },
     "execution_count": 14,
     "metadata": {},
     "output_type": "execute_result"
    }
   ],
   "source": [
    "text"
   ]
  },
  {
   "cell_type": "code",
   "execution_count": 16,
   "metadata": {},
   "outputs": [
    {
     "name": "stdout",
     "output_type": "stream",
     "text": [
      "[['顶级期刊目录', None, None, None, None, None, None, None, None], ['', None, None, '', None, None, '', None, None], ['', '序号', '', '', '学科', '', '', '期刊名称', ''], ['', None, None, '', None, None, '', None, None], ['1', None, None, '综合', None, None, 'SCIENCE', None, None], ['2', None, None, None, None, None, 'NATURE', None, None], ['3', None, None, None, None, None, 'CELL', None, None], ['4', None, None, None, None, None, 'LANCET', None, None], ['A+++期刊目录（综合类）', None, None, None, None, None, None, None, None], ['', None, None, '', None, None, '', None, None], ['', '序号', '', '', '学科', '', '', '期刊名称', ''], ['', None, None, '', None, None, '', None, None], ['1', None, None, '综合', None, None, '《SCIENCE》子刊', None, None], ['2', None, None, None, None, None, '《NATURE》子刊', None, None], ['3', None, None, None, None, None, '《CELL》子刊', None, None], ['4', None, None, None, None, None, '《LANCET》子刊', None, None], ['5', None, None, None, None, None, 'PROCEEDINGS OF THE NATIONAL ACADEMY OF \\nSCIENCES OF THE UNITED STATES OF \\nAMERICA(PNAS)', None, None], ['与《SCIENCE》、《NATURE》、《CELL》、《LANCET》子刊以及《PNAS》\\n等影响力相当的其他期刊，视为 A+++期刊', None, None, None, None, None, None, None, None]]\n"
     ]
    },
    {
     "data": {
      "text/plain": [
       "<xlwt.Workbook.Workbook at 0x1142bbfd0>"
      ]
     },
     "execution_count": 16,
     "metadata": {},
     "output_type": "execute_result"
    }
   ],
   "source": [
    "import pdfplumber\n",
    "import xlwt\n",
    "\n",
    "# 加载pdf\n",
    "path = \"/Users/nihe/Library/CloudStorage/OneDrive-zjgsu.edu.cn/research/policy/高层次期刊目录.pdf\"\n",
    "with pdfplumber.open(path) as pdf:\n",
    "    page_1 = pdf.pages[0]  # pdf第一页\n",
    "    table_1 = page_1.extract_table()  # 读取表格数据\n",
    "    print(table_1)\n",
    "    # 1.创建Excel对象\n",
    "    workbook = xlwt.Workbook(encoding='utf8')\n",
    "    # 2.新建sheet表\n",
    "    worksheet = workbook.add_sheet('Sheet1')\n",
    "    # 3.自定义列名\n",
    "    clo1 = table_1[0]\n",
    "    # 4.将列表元组clo1写入sheet表单中的第一行\n",
    "    for i in range(0, len(clo1)):\n",
    "        worksheet.write(0, i, clo1[i])\n",
    "    # 5.将数据写进sheet表单中\n",
    "    for i in range(0, len(table_1[1:])):\n",
    "        data = table_1[1:][i]\n",
    "        for j in range(0, len(clo1)):\n",
    "            worksheet.write(i + 1, j, data[j])\n",
    "    # 保存Excel文件分两种\n",
    "    workbook.save('test88.xls')\n",
    "\n",
    "workbook"
   ]
  }
 ],
 "metadata": {
  "kernelspec": {
   "display_name": "Python 3",
   "language": "python",
   "name": "python3"
  },
  "language_info": {
   "codemirror_mode": {
    "name": "ipython",
    "version": 3
   },
   "file_extension": ".py",
   "mimetype": "text/x-python",
   "name": "python",
   "nbconvert_exporter": "python",
   "pygments_lexer": "ipython3",
   "version": "3.9.6"
  },
  "orig_nbformat": 4,
  "vscode": {
   "interpreter": {
    "hash": "31f2aee4e71d21fbe5cf8b01ff0e069b9275f58929596ceb00d14d90e3e16cd6"
   }
  }
 },
 "nbformat": 4,
 "nbformat_minor": 2
}
